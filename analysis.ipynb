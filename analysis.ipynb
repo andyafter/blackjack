{
 "cells": [
  {
   "cell_type": "code",
   "execution_count": 1,
   "id": "d6c5a309",
   "metadata": {},
   "outputs": [],
   "source": [
    "from shuffler import Shuffler\n",
    "from strategy_importer import StrategyImporter\n",
    "from blackjack import Hand, Round, Player"
   ]
  },
  {
   "cell_type": "code",
   "execution_count": 2,
   "id": "51114dfa",
   "metadata": {},
   "outputs": [],
   "source": [
    "ROUNDS = 1\n",
    "HARD_STRATEGY, SOFT_STRATEGY, PAIR_STRATEGY = StrategyImporter('./strategies/BasicStrategy.csv').import_player_strategy()\n",
    "sh=Shuffler(6,{\"max\":4,\"weight\":{1:1,2:1,3:1,4:1}})"
   ]
  },
  {
   "cell_type": "code",
   "execution_count": 3,
   "id": "c86253b7",
   "metadata": {},
   "outputs": [
    {
     "name": "stdout",
     "output_type": "stream",
     "text": [
      "{21: {'Player': '21', '2': 'S', '3': 'S', '4': 'S', '5': 'S', '6': 'S', '7': 'S', '8': 'S', '9': 'S', 'T': 'S', 'J': 'S', 'Q': 'S', 'K': 'S', 'A': 'S'}, 20: {'Player': '20', '2': 'S', '3': 'S', '4': 'S', '5': 'S', '6': 'S', '7': 'S', '8': 'S', '9': 'S', 'T': 'S', 'J': 'S', 'Q': 'S', 'K': 'S', 'A': 'S'}, 19: {'Player': '19', '2': 'S', '3': 'S', '4': 'S', '5': 'S', '6': 'S', '7': 'S', '8': 'S', '9': 'S', 'T': 'S', 'J': 'S', 'Q': 'S', 'K': 'S', 'A': 'S'}, 18: {'Player': '18', '2': 'S', '3': 'S', '4': 'S', '5': 'S', '6': 'S', '7': 'S', '8': 'S', '9': 'S', 'T': 'S', 'J': 'S', 'Q': 'S', 'K': 'S', 'A': 'S'}, 17: {'Player': '17', '2': 'S', '3': 'S', '4': 'S', '5': 'S', '6': 'S', '7': 'S', '8': 'S', '9': 'S', 'T': 'S', 'J': 'S', 'Q': 'S', 'K': 'S', 'A': 'S'}, 16: {'Player': '16', '2': 'S', '3': 'S', '4': 'S', '5': 'S', '6': 'S', '7': 'H', '8': 'H', '9': 'UH', 'T': 'UH', 'J': 'UH', 'Q': 'UH', 'K': 'UH', 'A': 'H'}, 15: {'Player': '15', '2': 'S', '3': 'S', '4': 'S', '5': 'S', '6': 'S', '7': 'H', '8': 'H', '9': 'H', 'T': 'UH', 'J': 'UH', 'Q': 'UH', 'K': 'UH', 'A': 'H'}, 14: {'Player': '14', '2': 'S', '3': 'S', '4': 'S', '5': 'S', '6': 'S', '7': 'H', '8': 'H', '9': 'H', 'T': 'H', 'J': 'H', 'Q': 'H', 'K': 'H', 'A': 'H'}, 13: {'Player': '13', '2': 'S', '3': 'S', '4': 'S', '5': 'S', '6': 'S', '7': 'H', '8': 'H', '9': 'H', 'T': 'H', 'J': 'H', 'Q': 'H', 'K': 'H', 'A': 'H'}, 12: {'Player': '12', '2': 'H', '3': 'H', '4': 'S', '5': 'S', '6': 'S', '7': 'H', '8': 'H', '9': 'H', 'T': 'H', 'J': 'H', 'Q': 'H', 'K': 'H', 'A': 'H'}, 11: {'Player': '11', '2': 'DH', '3': 'DH', '4': 'DH', '5': 'DH', '6': 'DH', '7': 'DH', '8': 'DH', '9': 'DH', 'T': 'DH', 'J': 'DH', 'Q': 'DH', 'K': 'DH', 'A': 'H'}, 10: {'Player': '10', '2': 'DH', '3': 'DH', '4': 'DH', '5': 'DH', '6': 'DH', '7': 'DH', '8': 'DH', '9': 'DH', 'T': 'H', 'J': 'H', 'Q': 'H', 'K': 'H', 'A': 'H'}, 9: {'Player': '9', '2': 'H', '3': 'DH', '4': 'DH', '5': 'DH', '6': 'DH', '7': 'H', '8': 'H', '9': 'H', 'T': 'H', 'J': 'H', 'Q': 'H', 'K': 'H', 'A': 'H'}, 8: {'Player': '8', '2': 'H', '3': 'H', '4': 'H', '5': 'H', '6': 'H', '7': 'H', '8': 'H', '9': 'H', 'T': 'H', 'J': 'H', 'Q': 'H', 'K': 'H', 'A': 'H'}, 7: {'Player': '7', '2': 'H', '3': 'H', '4': 'H', '5': 'H', '6': 'H', '7': 'H', '8': 'H', '9': 'H', 'T': 'H', 'J': 'H', 'Q': 'H', 'K': 'H', 'A': 'H'}, 6: {'Player': '6', '2': 'H', '3': 'H', '4': 'H', '5': 'H', '6': 'H', '7': 'H', '8': 'H', '9': 'H', 'T': 'H', 'J': 'H', 'Q': 'H', 'K': 'H', 'A': 'H'}, 5: {'Player': '5', '2': 'H', '3': 'H', '4': 'H', '5': 'H', '6': 'H', '7': 'H', '8': 'H', '9': 'H', 'T': 'H', 'J': 'H', 'Q': 'H', 'K': 'H', 'A': 'H'}, 4: {'Player': '4', '2': 'H', '3': 'H', '4': 'H', '5': 'H', '6': 'H', '7': 'H', '8': 'H', '9': 'H', 'T': 'H', 'J': 'H', 'Q': 'H', 'K': 'H', 'A': 'H'}}\n"
     ]
    }
   ],
   "source": [
    "print(HARD_STRATEGY)"
   ]
  },
  {
   "cell_type": "code",
   "execution_count": 4,
   "id": "3d45a6d3",
   "metadata": {},
   "outputs": [],
   "source": [
    "basic_strategy = [HARD_STRATEGY, SOFT_STRATEGY, PAIR_STRATEGY]\n",
    "countings = []\n",
    "nb_hands = 0\n",
    "round_list = []\n",
    "bet_list = []\n",
    "pnl_list = []\n",
    "total_bet = 0\n",
    "total_pnl = 0\n",
    "sh = Shuffler(6, {\"max\": 4, \"weight\": {1: 1, 2: 1, 3: 1, 4: 1}})"
   ]
  },
  {
   "cell_type": "code",
   "execution_count": 5,
   "id": "130a6389",
   "metadata": {},
   "outputs": [
    {
     "name": "stdout",
     "output_type": "stream",
     "text": [
      "round begins\n",
      "player 0, hand A 3 \n",
      "dealer hand 9 \n",
      "player 1, hand 6 6 \n",
      "dealer hand 9 \n",
      "player 2, hand J 2 \n",
      "dealer hand 9 \n",
      "player 3, hand 6 3 \n",
      "dealer hand 9 \n",
      "player 4, hand 8 9 \n",
      "dealer hand 9 \n",
      "player 0 plays\n",
      "Hitted: 8\n",
      "Splitted A 3 \n",
      "Hitted: 2\n",
      "Hitted: 8\n",
      "Hitted: K\n",
      "Busted, value=24\n",
      "Hitted: 3\n",
      "Double Down\n",
      "Hitted: K\n",
      "value = 21\n",
      "player 1 plays\n",
      "Hitted: 8\n",
      "Stand, value = 20\n",
      "player 2 plays\n",
      "Hitted: K\n",
      "Busted, value=22\n",
      "player 3 plays\n",
      "Hitted: 9\n",
      "Stand, value = 18\n",
      "player 4 plays\n",
      "Stand, value = 17\n",
      "Dealer hitted: 9\n",
      "Dealer's hand: 9 9 , value = 18\n",
      "Bet List [7]\n",
      "pnl List [0.0]\n",
      "Total Bet =  7\n",
      "Total PnL =  0.0\n"
     ]
    }
   ],
   "source": [
    "for r in range(ROUNDS):\n",
    "    round = Round(1, sh, basic_strategy)  # TODO: vary bet size according to True Count\n",
    "    round.play_round()\n",
    "    for i in range(round.player_number):\n",
    "        for hand in round.players[i].hands:\n",
    "            nb_hands += 1\n",
    "            win, bet = round.get_hand_winnings(hand)\n",
    "            round.total_bet += bet\n",
    "            round.total_win += win\n",
    "    round_list.append(round)\n",
    "    bet_list.append(round.total_bet)\n",
    "    pnl_list.append(round.total_win)\n",
    "    total_bet += round.total_bet\n",
    "    total_pnl += round.total_win\n",
    "    sh.shuffle_back()\n",
    "\n",
    "print(\"Bet List\", bet_list)\n",
    "print(\"pnl List\", pnl_list)\n",
    "print(\"Total Bet = \", total_bet)\n",
    "print(\"Total PnL = \", total_pnl)"
   ]
  },
  {
   "cell_type": "code",
   "execution_count": 6,
   "id": "764cd6db",
   "metadata": {},
   "outputs": [],
   "source": [
    "start_hand_map = {}\n",
    "start_hands = [str(i) for i in range(5,22)] + [\"A\"+str(i) for i in range(2,10)] + [str(i) + \",\" + str(i) for i in range(2,11)] + [\"A,A\"]"
   ]
  },
  {
   "cell_type": "code",
   "execution_count": 7,
   "id": "96be5afe",
   "metadata": {},
   "outputs": [
    {
     "name": "stdout",
     "output_type": "stream",
     "text": [
      "round begins\n",
      "player 0, hand Q K \n",
      "dealer hand 4 \n",
      "player 1, hand K A \n",
      "dealer hand 4 \n",
      "player 2, hand 8 8 \n",
      "dealer hand 4 \n",
      "player 3, hand 4 9 \n",
      "dealer hand 4 \n",
      "player 4, hand 6 6 \n",
      "dealer hand 4 \n",
      "player 0 plays\n",
      "Stand, value = 20\n",
      "player 1 plays\n",
      "player 2 plays\n",
      "Splitted 8 \n",
      "Hitted: A\n",
      "Stand, value = 19\n",
      "Hitted: 6\n",
      "Stand, value = 14\n",
      "player 3 plays\n",
      "Stand, value = 13\n",
      "player 4 plays\n",
      "Splitted 6 \n",
      "Hitted: 7\n",
      "Stand, value = 13\n",
      "Hitted: K\n",
      "Stand, value = 16\n",
      "Dealer hitted: K\n",
      "Dealer hitted: A\n",
      "Dealer hitted: Q\n",
      "Dealer's hand: 4 K A Q , value = 25\n",
      "[<blackjack.Hand object at 0x7f8bf0c919a0>, <blackjack.Hand object at 0x7f8bf0c913a0>, <blackjack.Hand object at 0x7f8bf0c912b0>, <blackjack.Hand object at 0x7f8bf0c91280>, <blackjack.Hand object at 0x7f8bf0c91190>] ['4', 'K', 'A', 'Q']\n"
     ]
    }
   ],
   "source": [
    "for r in range(ROUNDS):\n",
    "    round = Round(1, sh, basic_strategy)  # TODO: vary bet size according to True Count\n",
    "    player_init_hand, dealer_init_hand = round.play_round()\n",
    "    for i in range(round.player_number):\n",
    "        for hand in round.players[i].hands:\n",
    "            nb_hands += 1\n",
    "            win, bet = round.get_hand_winnings(hand)\n",
    "            round.total_bet += bet\n",
    "            round.total_win += win\n",
    "    print(player_init_hand, dealer_init_hand)\n",
    "    round_list.append(round)\n",
    "    bet_list.append(round.total_bet)\n",
    "    pnl_list.append(round.total_win)\n",
    "    total_bet += round.total_bet\n",
    "    total_pnl += round.total_win\n",
    "    sh.shuffle_back()"
   ]
  },
  {
   "cell_type": "code",
   "execution_count": null,
   "id": "fe1461a9",
   "metadata": {},
   "outputs": [],
   "source": []
  },
  {
   "cell_type": "code",
   "execution_count": null,
   "id": "17149dc8",
   "metadata": {},
   "outputs": [],
   "source": []
  }
 ],
 "metadata": {
  "kernelspec": {
   "display_name": "Python 3 (ipykernel)",
   "language": "python",
   "name": "python3"
  },
  "language_info": {
   "codemirror_mode": {
    "name": "ipython",
    "version": 3
   },
   "file_extension": ".py",
   "mimetype": "text/x-python",
   "name": "python",
   "nbconvert_exporter": "python",
   "pygments_lexer": "ipython3",
   "version": "3.9.7"
  }
 },
 "nbformat": 4,
 "nbformat_minor": 5
}
